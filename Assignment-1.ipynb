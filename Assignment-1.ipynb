{
 "cells": [
  {
   "cell_type": "code",
   "execution_count": 2,
   "id": "1de1b5bd",
   "metadata": {},
   "outputs": [
    {
     "name": "stdout",
     "output_type": "stream",
     "text": [
      "Enter a string: murali\n",
      "Reversed string: ilarum\n"
     ]
    }
   ],
   "source": [
    "# 1. Write a Python program to reverse a string without using any built-in string reversal functions.\n",
    "\n",
    "def reverse_string(string):\n",
    "    reversed_string = \"\"\n",
    "    for i in range(len(string) - 1, -1, -1):\n",
    "        reversed_string += string[i]\n",
    "    return reversed_string\n",
    "\n",
    "\n",
    "input_string = input(\"Enter a string: \")\n",
    "reversed_string = reverse_string(input_string)\n",
    "print(\"Reversed string:\", reversed_string)\n",
    "\n"
   ]
  },
  {
   "cell_type": "code",
   "execution_count": 3,
   "id": "006e1f3c",
   "metadata": {},
   "outputs": [
    {
     "name": "stdout",
     "output_type": "stream",
     "text": [
      "Enter a string: madam\n",
      "The string is a palindrome.\n"
     ]
    }
   ],
   "source": [
    "# 2. Implement a function to check if a given string is a palindrome.\n",
    "\n",
    "def is_palindrome(string):\n",
    "    # Remove whitespace and convert to lowercase\n",
    "    string = string.replace(\" \", \"\").lower()\n",
    "\n",
    "    # Check if the string is equal to its reverse\n",
    "    if string == string[::-1]:\n",
    "        return True\n",
    "    else:\n",
    "        return False\n",
    "\n",
    "\n",
    "input_string = input(\"Enter a string: \")\n",
    "if is_palindrome(input_string):\n",
    "    print(\"The string is a palindrome.\")\n",
    "else:\n",
    "    print(\"The string is not a palindrome.\")"
   ]
  },
  {
   "cell_type": "code",
   "execution_count": 4,
   "id": "1543d3fc",
   "metadata": {},
   "outputs": [
    {
     "name": "stdout",
     "output_type": "stream",
     "text": [
      "Enter a list of numbers (space-separated): 6 7 2 4\n",
      "Largest element: 7\n"
     ]
    }
   ],
   "source": [
    "# 3. Write a program to find the largest element in a given list.\n",
    "\n",
    "def find_largest_element(lst):\n",
    "    if len(lst) == 0:\n",
    "        print(\"Error: List is empty.\")\n",
    "        return None\n",
    "\n",
    "    largest = lst[0]  # Assume the first element is the largest\n",
    "\n",
    "    for i in range(1, len(lst)):\n",
    "        if lst[i] > largest:\n",
    "            largest = lst[i]\n",
    "\n",
    "    return largest\n",
    "\n",
    "\n",
    "input_list = input(\"Enter a list of numbers (space-separated): \")\n",
    "input_list = input_list.split()  # Split the input string into a list of numbers\n",
    "input_list = [int(num) for num in input_list]  # Convert each element to an integer\n",
    "\n",
    "largest_element = find_largest_element(input_list)\n",
    "print(\"Largest element:\", largest_element)\n"
   ]
  },
  {
   "cell_type": "code",
   "execution_count": 5,
   "id": "4a32a1ac",
   "metadata": {},
   "outputs": [
    {
     "name": "stdout",
     "output_type": "stream",
     "text": [
      "Enter a list of elements (space-separated): 7 7 8 9 4\n",
      "Occurrence count: {'7': 2, '8': 1, '9': 1, '4': 1}\n"
     ]
    }
   ],
   "source": [
    "# 4. Implement a function to count the occurrence of each element in a list.\n",
    "def count_occurrences(lst):\n",
    "    occurrence_count = {}\n",
    "\n",
    "    for element in lst:\n",
    "        if element in occurrence_count:\n",
    "            occurrence_count[element] += 1\n",
    "        else:\n",
    "            occurrence_count[element] = 1\n",
    "\n",
    "    return occurrence_count\n",
    "\n",
    "\n",
    "input_list = input(\"Enter a list of elements (space-separated): \")\n",
    "input_list = input_list.split()  # Split the input string into a list\n",
    "\n",
    "occurrence_count = count_occurrences(input_list)\n",
    "print(\"Occurrence count:\", occurrence_count)"
   ]
  },
  {
   "cell_type": "code",
   "execution_count": 6,
   "id": "42ee0853",
   "metadata": {},
   "outputs": [
    {
     "name": "stdout",
     "output_type": "stream",
     "text": [
      "Enter a list of elements (space-separated): 4 4 5 6 6 7 8 9\n",
      "List with duplicates removed: ['4', '5', '6', '7', '8', '9']\n"
     ]
    }
   ],
   "source": [
    "# 6. Implement a function to remove duplicate elements from a list.\n",
    "def remove_duplicates(lst):\n",
    "    unique_list = []\n",
    "\n",
    "    for element in lst:\n",
    "        if element not in unique_list:\n",
    "            unique_list.append(element)\n",
    "\n",
    "    return unique_list\n",
    "\n",
    "\n",
    "input_list = input(\"Enter a list of elements (space-separated): \")\n",
    "input_list = input_list.split()  # Split the input string into a list\n",
    "\n",
    "unique_list = remove_duplicates(input_list)\n",
    "print(\"List with duplicates removed:\", unique_list)"
   ]
  },
  {
   "cell_type": "code",
   "execution_count": 7,
   "id": "6b15bae2",
   "metadata": {},
   "outputs": [
    {
     "name": "stdout",
     "output_type": "stream",
     "text": [
      "Enter a number: 3\n",
      "Factorial of 3 is 6\n"
     ]
    }
   ],
   "source": [
    "# 7. Write a program to calculate the factorial of a given number.\n",
    "def factorial(n):\n",
    "    if n < 0:\n",
    "        print(\"Error: Factorial is not defined for negative numbers.\")\n",
    "        return None\n",
    "\n",
    "    result = 1\n",
    "\n",
    "    for i in range(1, n + 1):\n",
    "        result *= i\n",
    "\n",
    "    return result\n",
    "\n",
    "\n",
    "input_num = int(input(\"Enter a number: \"))\n",
    "\n",
    "fact = factorial(input_num)\n",
    "if fact is not None:\n",
    "    print(\"Factorial of\", input_num, \"is\", fact)"
   ]
  },
  {
   "cell_type": "code",
   "execution_count": 10,
   "id": "16e3ec64",
   "metadata": {},
   "outputs": [
    {
     "name": "stdout",
     "output_type": "stream",
     "text": [
      "Enter a number: 5\n",
      "5 is a prime number.\n"
     ]
    }
   ],
   "source": [
    "#8. Implement a function to check if a given number is prime.\n",
    "def is_prime(number):\n",
    "    if number < 2:\n",
    "        return False\n",
    "\n",
    "    for i in range(2, int(number ** 0.5) + 1):\n",
    "        if number % i == 0:\n",
    "            return False\n",
    "\n",
    "    return True\n",
    "\n",
    "\n",
    "input_num = int(input(\"Enter a number: \"))\n",
    "\n",
    "if is_prime(input_num):\n",
    "    print(input_num, \"is a prime number.\")\n",
    "else:\n",
    "    print(input_num, \"is not a prime number.\")"
   ]
  },
  {
   "cell_type": "code",
   "execution_count": 11,
   "id": "eeb8cab1",
   "metadata": {},
   "outputs": [
    {
     "name": "stdout",
     "output_type": "stream",
     "text": [
      "Enter a list of integers (space-separated): 4 3 7 5 6 8\n",
      "Sorted list in ascending order: [3, 4, 5, 6, 7, 8]\n"
     ]
    }
   ],
   "source": [
    "# 9. Write a Python program to sort a list of integers in ascending order.\n",
    "def sort_list_ascending(lst):\n",
    "    lst.sort()\n",
    "    return lst\n",
    "\n",
    "\n",
    "input_list = input(\"Enter a list of integers (space-separated): \")\n",
    "input_list = input_list.split()  # Split the input string into a list of strings\n",
    "input_list = [int(num) for num in input_list]  # Convert each element to an integer\n",
    "\n",
    "sorted_list = sort_list_ascending(input_list)\n",
    "print(\"Sorted list in ascending order:\", sorted_list)"
   ]
  },
  {
   "cell_type": "code",
   "execution_count": 12,
   "id": "d2ef76dd",
   "metadata": {},
   "outputs": [
    {
     "name": "stdout",
     "output_type": "stream",
     "text": [
      "Enter a list of numbers (space-separated): 1 2 3 4 5\n",
      "Sum of numbers: 15\n"
     ]
    }
   ],
   "source": [
    "# 10. Implement a function to find the sum of all numbers in a list.\n",
    "def find_sum(lst):\n",
    "    total = 0\n",
    "\n",
    "    for num in lst:\n",
    "        total += num\n",
    "\n",
    "    return total\n",
    "\n",
    "# Test the function\n",
    "input_list = input(\"Enter a list of numbers (space-separated): \")\n",
    "input_list = input_list.split()  # Split the input string into a list of strings\n",
    "input_list = [int(num) for num in input_list]  # Convert each element to an integer\n",
    "\n",
    "sum_of_numbers = find_sum(input_list)\n",
    "print(\"Sum of numbers:\", sum_of_numbers)\n"
   ]
  },
  {
   "cell_type": "code",
   "execution_count": null,
   "id": "e481e4bc",
   "metadata": {},
   "outputs": [],
   "source": []
  }
 ],
 "metadata": {
  "kernelspec": {
   "display_name": "Python 3 (ipykernel)",
   "language": "python",
   "name": "python3"
  },
  "language_info": {
   "codemirror_mode": {
    "name": "ipython",
    "version": 3
   },
   "file_extension": ".py",
   "mimetype": "text/x-python",
   "name": "python",
   "nbconvert_exporter": "python",
   "pygments_lexer": "ipython3",
   "version": "3.9.12"
  }
 },
 "nbformat": 4,
 "nbformat_minor": 5
}
